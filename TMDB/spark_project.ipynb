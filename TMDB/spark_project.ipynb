{
 "cells": [
  {
   "cell_type": "code",
   "execution_count": 36,
   "id": "dbc5d3ff-5585-41ed-b469-0837969040ad",
   "metadata": {},
   "outputs": [],
   "source": [
    "from pyspark.sql import SparkSession, Column, Window, types\n",
    "import pyspark.sql.functions as fn\n",
    "import re\n",
    "    \n",
    "session = SparkSession.builder.master(\"spark://gateway:7077\").getOrCreate()"
   ]
  },
  {
   "cell_type": "code",
   "execution_count": 40,
   "id": "74e8669d-25e2-41de-8e47-1436f6645422",
   "metadata": {},
   "outputs": [
    {
     "name": "stdout",
     "output_type": "stream",
     "text": [
      "root\n",
      " |-- budget: string (nullable = true)\n",
      " |-- genres: string (nullable = true)\n",
      " |-- homepage: string (nullable = true)\n",
      " |-- id: string (nullable = true)\n",
      " |-- keywords: string (nullable = true)\n",
      " |-- original_language: string (nullable = true)\n",
      " |-- original_title: string (nullable = true)\n",
      " |-- overview: string (nullable = true)\n",
      " |-- popularity: string (nullable = true)\n",
      " |-- production_companies: string (nullable = true)\n",
      " |-- production_countries: string (nullable = true)\n",
      " |-- release_date: string (nullable = true)\n",
      " |-- revenue: string (nullable = true)\n",
      " |-- runtime: string (nullable = true)\n",
      " |-- spoken_languages: string (nullable = true)\n",
      " |-- status: string (nullable = true)\n",
      " |-- tagline: string (nullable = true)\n",
      " |-- title: string (nullable = true)\n",
      " |-- vote_average: string (nullable = true)\n",
      " |-- vote_count: string (nullable = true)\n",
      "\n"
     ]
    }
   ],
   "source": [
    "dataset = session.read.option(\"escape\", '\"').option(\"header\",True).option(\"multiLine\",True).option(\"quote\",'\"').csv(\"hdfs://node1:9000/tmp/tmdb_5000_movies.csv\")\n",
    "dataset.printSchema()"
   ]
  },
  {
   "cell_type": "code",
   "execution_count": 41,
   "id": "8dac6b36-a48a-46dd-8d70-dc0153446615",
   "metadata": {},
   "outputs": [
    {
     "data": {
      "text/plain": [
       "[]"
      ]
     },
     "execution_count": 41,
     "metadata": {},
     "output_type": "execute_result"
    }
   ],
   "source": [
    "dataset.filter(dataset['vote_count'].cast('int').isNull()).collect()"
   ]
  },
  {
   "cell_type": "markdown",
   "id": "d23da957-6d50-47a6-beab-8d6bb7ee33a3",
   "metadata": {},
   "source": [
    "## First Req. : most popular film in each original language"
   ]
  },
  {
   "cell_type": "code",
   "execution_count": 51,
   "id": "2b5c875f-7ef9-4fdb-bb00-5aa520750089",
   "metadata": {},
   "outputs": [
    {
     "name": "stdout",
     "output_type": "stream",
     "text": [
      "+-----------------+--------------------+\n",
      "|original_language|               title|\n",
      "+-----------------+--------------------+\n",
      "|               af|              Tsotsi|\n",
      "|               ar|          The Square|\n",
      "|               ar|             Caramel|\n",
      "|               cn|             Z Storm|\n",
      "|               cs|     Dancin' It's On|\n",
      "|               da|               Ordet|\n",
      "|               de|     The Tooth Fairy|\n",
      "|               de|         Fascination|\n",
      "|               de|          The Timber|\n",
      "|               de|My Last Day Witho...|\n",
      "|               de|         Food Chains|\n",
      "|               el|            Dogtooth|\n",
      "|               en|             Déjà Vu|\n",
      "|               en|              Inchon|\n",
      "|               en|  Warriors of Virtue|\n",
      "|               en| Black Water Transit|\n",
      "|               en|     The Magic Flute|\n",
      "|               en|The Bridge of San...|\n",
      "|               en|Megiddo: The Omeg...|\n",
      "|               en|        Darling Lili|\n",
      "+-----------------+--------------------+\n",
      "only showing top 20 rows\n",
      "\n"
     ]
    }
   ],
   "source": [
    "dataset = dataset.withColumn('popularity', dataset['popularity'].cast('int'))\n",
    "win = Window.partitionBy('original_language').orderBy('popularity')\n",
    "req1 = dataset.withColumn('ranking', fn.rank().over(win)).where(fn.col('ranking') == 1).select(['original_language','title'])\n",
    "req1.show()"
   ]
  },
  {
   "cell_type": "code",
   "execution_count": 53,
   "id": "21da970d-5185-41cc-9f1c-5c9a4c3519ac",
   "metadata": {},
   "outputs": [],
   "source": [
    "req1.write.csv('hdfs://node1:9000//tmp/popular_films.csv',mode='overwrite')"
   ]
  },
  {
   "cell_type": "markdown",
   "id": "d8771e21-ee23-4640-8304-a7267d80d117",
   "metadata": {},
   "source": [
    "## Second Req. : a new file on HDFS called Genres_Agggregations.csv with the id, name and number of movies for each genre"
   ]
  },
  {
   "cell_type": "code",
   "execution_count": 108,
   "id": "b9108a2b-1d71-421d-a113-1f84e34e53e1",
   "metadata": {},
   "outputs": [
    {
     "data": {
      "text/plain": [
       "[Row(budget='237000000', genres='{\"id\": 28, \"name\": \"Action\"}, {\"id\": 12, \"name\": \"Adventure\"}, {\"id\": 14, \"name\": \"Fantasy\"}, {\"id\": 878, \"name\": \"Science Fiction\"}', homepage='http://www.avatarmovie.com/', id='19995', keywords='[{\"id\": 1463, \"name\": \"culture clash\"}, {\"id\": 2964, \"name\": \"future\"}, {\"id\": 3386, \"name\": \"space war\"}, {\"id\": 3388, \"name\": \"space colony\"}, {\"id\": 3679, \"name\": \"society\"}, {\"id\": 3801, \"name\": \"space travel\"}, {\"id\": 9685, \"name\": \"futuristic\"}, {\"id\": 9840, \"name\": \"romance\"}, {\"id\": 9882, \"name\": \"space\"}, {\"id\": 9951, \"name\": \"alien\"}, {\"id\": 10148, \"name\": \"tribe\"}, {\"id\": 10158, \"name\": \"alien planet\"}, {\"id\": 10987, \"name\": \"cgi\"}, {\"id\": 11399, \"name\": \"marine\"}, {\"id\": 13065, \"name\": \"soldier\"}, {\"id\": 14643, \"name\": \"battle\"}, {\"id\": 14720, \"name\": \"love affair\"}, {\"id\": 165431, \"name\": \"anti war\"}, {\"id\": 193554, \"name\": \"power relations\"}, {\"id\": 206690, \"name\": \"mind and soul\"}, {\"id\": 209714, \"name\": \"3d\"}]', original_language='en', original_title='Avatar', overview='In the 22nd century, a paraplegic Marine is dispatched to the moon Pandora on a unique mission, but becomes torn between following orders and protecting an alien civilization.', popularity=150, production_companies='[{\"name\": \"Ingenious Film Partners\", \"id\": 289}, {\"name\": \"Twentieth Century Fox Film Corporation\", \"id\": 306}, {\"name\": \"Dune Entertainment\", \"id\": 444}, {\"name\": \"Lightstorm Entertainment\", \"id\": 574}]', production_countries='[{\"iso_3166_1\": \"US\", \"name\": \"United States of America\"}, {\"iso_3166_1\": \"GB\", \"name\": \"United Kingdom\"}]', release_date='2009-12-10', revenue='2787965087', runtime='162', spoken_languages='[{\"iso_639_1\": \"en\", \"name\": \"English\"}, {\"iso_639_1\": \"es\", \"name\": \"Espa\\\\u00f1ol\"}]', status='Released', tagline='Enter the World of Pandora.', title='Avatar', vote_average='7.2', vote_count='11800'),\n",
       " Row(budget='300000000', genres='{\"id\": 12, \"name\": \"Adventure\"}, {\"id\": 14, \"name\": \"Fantasy\"}, {\"id\": 28, \"name\": \"Action\"}', homepage='http://disney.go.com/disneypictures/pirates/', id='285', keywords='[{\"id\": 270, \"name\": \"ocean\"}, {\"id\": 726, \"name\": \"drug abuse\"}, {\"id\": 911, \"name\": \"exotic island\"}, {\"id\": 1319, \"name\": \"east india trading company\"}, {\"id\": 2038, \"name\": \"love of one\\'s life\"}, {\"id\": 2052, \"name\": \"traitor\"}, {\"id\": 2580, \"name\": \"shipwreck\"}, {\"id\": 2660, \"name\": \"strong woman\"}, {\"id\": 3799, \"name\": \"ship\"}, {\"id\": 5740, \"name\": \"alliance\"}, {\"id\": 5941, \"name\": \"calypso\"}, {\"id\": 6155, \"name\": \"afterlife\"}, {\"id\": 6211, \"name\": \"fighter\"}, {\"id\": 12988, \"name\": \"pirate\"}, {\"id\": 157186, \"name\": \"swashbuckler\"}, {\"id\": 179430, \"name\": \"aftercreditsstinger\"}]', original_language='en', original_title=\"Pirates of the Caribbean: At World's End\", overview='Captain Barbossa, long believed to be dead, has come back to life and is headed to the edge of the Earth with Will Turner and Elizabeth Swann. But nothing is quite as it seems.', popularity=139, production_companies='[{\"name\": \"Walt Disney Pictures\", \"id\": 2}, {\"name\": \"Jerry Bruckheimer Films\", \"id\": 130}, {\"name\": \"Second Mate Productions\", \"id\": 19936}]', production_countries='[{\"iso_3166_1\": \"US\", \"name\": \"United States of America\"}]', release_date='2007-05-19', revenue='961000000', runtime='169', spoken_languages='[{\"iso_639_1\": \"en\", \"name\": \"English\"}]', status='Released', tagline='At the end of the world, the adventure begins.', title=\"Pirates of the Caribbean: At World's End\", vote_average='6.9', vote_count='4500'),\n",
       " Row(budget='245000000', genres='{\"id\": 28, \"name\": \"Action\"}, {\"id\": 12, \"name\": \"Adventure\"}, {\"id\": 80, \"name\": \"Crime\"}', homepage='http://www.sonypictures.com/movies/spectre/', id='206647', keywords='[{\"id\": 470, \"name\": \"spy\"}, {\"id\": 818, \"name\": \"based on novel\"}, {\"id\": 4289, \"name\": \"secret agent\"}, {\"id\": 9663, \"name\": \"sequel\"}, {\"id\": 14555, \"name\": \"mi6\"}, {\"id\": 156095, \"name\": \"british secret service\"}, {\"id\": 158431, \"name\": \"united kingdom\"}]', original_language='en', original_title='Spectre', overview='A cryptic message from Bond’s past sends him on a trail to uncover a sinister organization. While M battles political forces to keep the secret service alive, Bond peels back the layers of deceit to reveal the terrible truth behind SPECTRE.', popularity=107, production_companies='[{\"name\": \"Columbia Pictures\", \"id\": 5}, {\"name\": \"Danjaq\", \"id\": 10761}, {\"name\": \"B24\", \"id\": 69434}]', production_countries='[{\"iso_3166_1\": \"GB\", \"name\": \"United Kingdom\"}, {\"iso_3166_1\": \"US\", \"name\": \"United States of America\"}]', release_date='2015-10-26', revenue='880674609', runtime='148', spoken_languages='[{\"iso_639_1\": \"fr\", \"name\": \"Fran\\\\u00e7ais\"}, {\"iso_639_1\": \"en\", \"name\": \"English\"}, {\"iso_639_1\": \"es\", \"name\": \"Espa\\\\u00f1ol\"}, {\"iso_639_1\": \"it\", \"name\": \"Italiano\"}, {\"iso_639_1\": \"de\", \"name\": \"Deutsch\"}]', status='Released', tagline='A Plan No One Escapes', title='Spectre', vote_average='6.3', vote_count='4466'),\n",
       " Row(budget='250000000', genres='{\"id\": 28, \"name\": \"Action\"}, {\"id\": 80, \"name\": \"Crime\"}, {\"id\": 18, \"name\": \"Drama\"}, {\"id\": 53, \"name\": \"Thriller\"}', homepage='http://www.thedarkknightrises.com/', id='49026', keywords='[{\"id\": 849, \"name\": \"dc comics\"}, {\"id\": 853, \"name\": \"crime fighter\"}, {\"id\": 949, \"name\": \"terrorist\"}, {\"id\": 1308, \"name\": \"secret identity\"}, {\"id\": 1437, \"name\": \"burglar\"}, {\"id\": 3051, \"name\": \"hostage drama\"}, {\"id\": 3562, \"name\": \"time bomb\"}, {\"id\": 6969, \"name\": \"gotham city\"}, {\"id\": 7002, \"name\": \"vigilante\"}, {\"id\": 9665, \"name\": \"cover-up\"}, {\"id\": 9715, \"name\": \"superhero\"}, {\"id\": 9990, \"name\": \"villainess\"}, {\"id\": 10044, \"name\": \"tragic hero\"}, {\"id\": 13015, \"name\": \"terrorism\"}, {\"id\": 14796, \"name\": \"destruction\"}, {\"id\": 18933, \"name\": \"catwoman\"}, {\"id\": 156082, \"name\": \"cat burglar\"}, {\"id\": 156395, \"name\": \"imax\"}, {\"id\": 173272, \"name\": \"flood\"}, {\"id\": 179093, \"name\": \"criminal underworld\"}, {\"id\": 230775, \"name\": \"batman\"}]', original_language='en', original_title='The Dark Knight Rises', overview=\"Following the death of District Attorney Harvey Dent, Batman assumes responsibility for Dent's crimes to protect the late attorney's reputation and is subsequently hunted by the Gotham City Police Department. Eight years later, Batman encounters the mysterious Selina Kyle and the villainous Bane, a new terrorist leader who overwhelms Gotham's finest. The Dark Knight resurfaces to protect a city that has branded him an enemy.\", popularity=112, production_companies='[{\"name\": \"Legendary Pictures\", \"id\": 923}, {\"name\": \"Warner Bros.\", \"id\": 6194}, {\"name\": \"DC Entertainment\", \"id\": 9993}, {\"name\": \"Syncopy\", \"id\": 9996}]', production_countries='[{\"iso_3166_1\": \"US\", \"name\": \"United States of America\"}]', release_date='2012-07-16', revenue='1084939099', runtime='165', spoken_languages='[{\"iso_639_1\": \"en\", \"name\": \"English\"}]', status='Released', tagline='The Legend Ends', title='The Dark Knight Rises', vote_average='7.6', vote_count='9106'),\n",
       " Row(budget='260000000', genres='{\"id\": 28, \"name\": \"Action\"}, {\"id\": 12, \"name\": \"Adventure\"}, {\"id\": 878, \"name\": \"Science Fiction\"}', homepage='http://movies.disney.com/john-carter', id='49529', keywords='[{\"id\": 818, \"name\": \"based on novel\"}, {\"id\": 839, \"name\": \"mars\"}, {\"id\": 1456, \"name\": \"medallion\"}, {\"id\": 3801, \"name\": \"space travel\"}, {\"id\": 7376, \"name\": \"princess\"}, {\"id\": 9951, \"name\": \"alien\"}, {\"id\": 10028, \"name\": \"steampunk\"}, {\"id\": 10539, \"name\": \"martian\"}, {\"id\": 10685, \"name\": \"escape\"}, {\"id\": 161511, \"name\": \"edgar rice burroughs\"}, {\"id\": 163252, \"name\": \"alien race\"}, {\"id\": 179102, \"name\": \"superhuman strength\"}, {\"id\": 190320, \"name\": \"mars civilization\"}, {\"id\": 195446, \"name\": \"sword and planet\"}, {\"id\": 207928, \"name\": \"19th century\"}, {\"id\": 209714, \"name\": \"3d\"}]', original_language='en', original_title='John Carter', overview=\"John Carter is a war-weary, former military captain who's inexplicably transported to the mysterious and exotic planet of Barsoom (Mars) and reluctantly becomes embroiled in an epic conflict. It's a world on the brink of collapse, and Carter rediscovers his humanity when he realizes the survival of Barsoom and its people rests in his hands.\", popularity=43, production_companies='[{\"name\": \"Walt Disney Pictures\", \"id\": 2}]', production_countries='[{\"iso_3166_1\": \"US\", \"name\": \"United States of America\"}]', release_date='2012-03-07', revenue='284139100', runtime='132', spoken_languages='[{\"iso_639_1\": \"en\", \"name\": \"English\"}]', status='Released', tagline='Lost in our world, found in another.', title='John Carter', vote_average='6.1', vote_count='2124')]"
      ]
     },
     "execution_count": 108,
     "metadata": {},
     "output_type": "execute_result"
    }
   ],
   "source": [
    "dataset.withColumn('genres',fn.btrim(dataset['genres'],fn.lit('[]'))).head(5)"
   ]
  },
  {
   "cell_type": "code",
   "execution_count": 114,
   "id": "91e5e6f7-f98b-46dc-83c9-bc6a3eb818ff",
   "metadata": {},
   "outputs": [],
   "source": [
    "req2 = dataset.withColumn('genres',fn.split(fn.btrim(dataset['genres'],fn.lit('[]')),'(?<=\\})(, *)(?=\\{)')).withColumn('genres',fn.explode('genres'))"
   ]
  },
  {
   "cell_type": "code",
   "execution_count": 151,
   "id": "da36a5f3-863a-415c-8239-feaaadae37d3",
   "metadata": {},
   "outputs": [],
   "source": [
    "req2_1 = req2.groupBy(req2['genres']).count().withColumn('genres',fn.from_json(req2['genres'],'MAP<STRING,STRING>'))"
   ]
  },
  {
   "cell_type": "code",
   "execution_count": 160,
   "id": "16bea911-181e-4266-ab35-8659cabda121",
   "metadata": {},
   "outputs": [
    {
     "name": "stdout",
     "output_type": "stream",
     "text": [
      "+----------+---------------+-----+\n",
      "|genres[id]|   genres[name]|count|\n",
      "+----------+---------------+-----+\n",
      "|       878|Science Fiction|  535|\n",
      "|        12|      Adventure|  790|\n",
      "|        28|         Action| 1154|\n",
      "|        14|        Fantasy|  424|\n",
      "|     10752|            War|  144|\n",
      "|     10402|          Music|  185|\n",
      "|        35|         Comedy| 1722|\n",
      "|     10749|        Romance|  894|\n",
      "|     10769|        Foreign|   34|\n",
      "|        37|        Western|   82|\n",
      "|        36|        History|  197|\n",
      "|        99|    Documentary|  110|\n",
      "|        18|          Drama| 2297|\n",
      "|     10751|         Family|  513|\n",
      "|        27|         Horror|  519|\n",
      "|        80|          Crime|  696|\n",
      "|        16|      Animation|  234|\n",
      "|      NULL|           NULL|   28|\n",
      "|        53|       Thriller| 1274|\n",
      "|      9648|        Mystery|  348|\n",
      "+----------+---------------+-----+\n",
      "only showing top 20 rows\n",
      "\n"
     ]
    }
   ],
   "source": [
    "req2_2 = req2_1.select(req2_1['genres']['id'],req2_1['genres']['name'],req2_1['count']).show()"
   ]
  },
  {
   "cell_type": "code",
   "execution_count": 161,
   "id": "f8f3cb7e-c366-40d1-ab2c-45fc4b3b1281",
   "metadata": {},
   "outputs": [],
   "source": [
    "req2_2.write.csv('hdfs://node1:9000//tmp/Genres_Aggregations.csv',mode='overwrite')"
   ]
  },
  {
   "cell_type": "code",
   "execution_count": null,
   "id": "67da3f69-3cb9-4e16-8009-d14cb8c09cae",
   "metadata": {},
   "outputs": [],
   "source": []
  }
 ],
 "metadata": {
  "kernelspec": {
   "display_name": "Python 3 (ipykernel)",
   "language": "python",
   "name": "python3"
  },
  "language_info": {
   "codemirror_mode": {
    "name": "ipython",
    "version": 3
   },
   "file_extension": ".py",
   "mimetype": "text/x-python",
   "name": "python",
   "nbconvert_exporter": "python",
   "pygments_lexer": "ipython3",
   "version": "3.11.2"
  }
 },
 "nbformat": 4,
 "nbformat_minor": 5
}
